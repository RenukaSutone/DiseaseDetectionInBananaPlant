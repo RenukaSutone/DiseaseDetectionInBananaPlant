{
  "nbformat": 4,
  "nbformat_minor": 0,
  "metadata": {
    "colab": {
      "provenance": []
    },
    "kernelspec": {
      "name": "python3",
      "display_name": "Python 3"
    },
    "language_info": {
      "name": "python"
    },
    "accelerator": "GPU"
  },
  "cells": [
    {
      "cell_type": "code",
      "execution_count": null,
      "metadata": {
        "id": "KqIU_6GKhJO9"
      },
      "outputs": [],
      "source": [
        "import tensorflow as tf\n",
        "from tensorflow.keras import models, layers\n",
        "import matplotlib.pyplot as plt\n",
        "from IPython.display import HTML"
      ]
    },
    {
      "cell_type": "code",
      "source": [
        "BATCH_SIZE = 32\n",
        "IMAGE_SIZE1 = 113\n",
        "IMAGE_SIZE2 = 150\n",
        "CHANNELS=3\n",
        "EPOCHS=15"
      ],
      "metadata": {
        "id": "51kLBjkKh04O"
      },
      "execution_count": null,
      "outputs": []
    },
    {
      "cell_type": "code",
      "source": [
        "dataset = tf.keras.preprocessing.image_dataset_from_directory(\n",
        "    \"/content/drive/MyDrive/FINAL_DATASET_CROP_MONITORING\",\n",
        "    seed=123,\n",
        "    shuffle=True,\n",
        "    image_size=(IMAGE_SIZE1,IMAGE_SIZE2),\n",
        "    batch_size=BATCH_SIZE\n",
        ")"
      ],
      "metadata": {
        "colab": {
          "base_uri": "https://localhost:8080/"
        },
        "id": "E4R0Czych9yL",
        "outputId": "ff5af3c7-a3d6-489a-a65f-ed4a2a7f08e2"
      },
      "execution_count": null,
      "outputs": [
        {
          "output_type": "stream",
          "name": "stdout",
          "text": [
            "Found 3023 files belonging to 3 classes.\n"
          ]
        }
      ]
    },
    {
      "cell_type": "code",
      "source": [
        "class_names = dataset.class_names\n",
        "class_names"
      ],
      "metadata": {
        "colab": {
          "base_uri": "https://localhost:8080/"
        },
        "id": "YFD7ZEikiZOR",
        "outputId": "60feaf9f-db24-4e95-9652-f81e343b00dc"
      },
      "execution_count": null,
      "outputs": [
        {
          "output_type": "execute_result",
          "data": {
            "text/plain": [
              "['CMV', 'HEALTHY', 'SIGATOKA']"
            ]
          },
          "metadata": {},
          "execution_count": 5
        }
      ]
    },
    {
      "cell_type": "code",
      "source": [
        "for image_batch, labels_batch in dataset.take(1):\n",
        "    print(image_batch.shape)\n",
        "    print(labels_batch.numpy())"
      ],
      "metadata": {
        "colab": {
          "base_uri": "https://localhost:8080/"
        },
        "id": "KZPA5ZF4iaF2",
        "outputId": "a1fbf3fa-3598-47d3-d4e3-bacb868bc0f5"
      },
      "execution_count": null,
      "outputs": [
        {
          "output_type": "stream",
          "name": "stdout",
          "text": [
            "(32, 113, 150, 3)\n",
            "[0 0 2 2 0 0 2 2 0 0 0 0 2 0 2 2 2 0 2 2 1 1 2 1 0 0 2 1 0 1 1 0]\n"
          ]
        }
      ]
    },
    {
      "cell_type": "code",
      "source": [
        "def get_dataset_partitions_tf(ds, train_split=0.8, val_split=0.1, test_split=0.1, shuffle=True, shuffle_size=10000):\n",
        "    assert (train_split + test_split + val_split) == 1\n",
        "\n",
        "    ds_size = len(ds)\n",
        "\n",
        "    if shuffle:\n",
        "        ds = ds.shuffle(shuffle_size, seed=12)\n",
        "\n",
        "    train_size = int(train_split * ds_size)\n",
        "    val_size = int(val_split * ds_size)\n",
        "\n",
        "    train_ds = ds.take(train_size)\n",
        "    val_ds = ds.skip(train_size).take(val_size)\n",
        "    test_ds = ds.skip(train_size).skip(val_size)\n",
        "\n",
        "    return train_ds, val_ds, test_ds"
      ],
      "metadata": {
        "id": "NcCxCH_liuaI"
      },
      "execution_count": null,
      "outputs": []
    },
    {
      "cell_type": "code",
      "source": [
        "train_ds, val_ds, test_ds = get_dataset_partitions_tf(dataset)\n",
        "train_ds"
      ],
      "metadata": {
        "colab": {
          "base_uri": "https://localhost:8080/"
        },
        "id": "4aPvedkZiyIF",
        "outputId": "5ab0ecfd-04fe-433a-993c-437d676b1b84"
      },
      "execution_count": null,
      "outputs": [
        {
          "output_type": "execute_result",
          "data": {
            "text/plain": [
              "<TakeDataset element_spec=(TensorSpec(shape=(None, 113, 150, 3), dtype=tf.float32, name=None), TensorSpec(shape=(None,), dtype=tf.int32, name=None))>"
            ]
          },
          "metadata": {},
          "execution_count": 8
        }
      ]
    },
    {
      "cell_type": "code",
      "source": [
        "import numpy as np\n",
        "labels=[]\n",
        "array1 = np.array([])\n",
        "for image_batch, labels_batch in test_ds:\n",
        "  labels.append(labels_batch.numpy())\n",
        "for i in range(10):\n",
        "  array1=np.append(array1,labels[i])\n",
        "lable_list=array1.tolist()\n"
      ],
      "metadata": {
        "id": "4HK2qfAbi13E"
      },
      "execution_count": null,
      "outputs": []
    },
    {
      "cell_type": "code",
      "source": [
        "resize_and_rescale = tf.keras.Sequential([\n",
        "  layers.experimental.preprocessing.Resizing(IMAGE_SIZE1, IMAGE_SIZE2),\n",
        "  layers.experimental.preprocessing.Rescaling(1./255),\n",
        "])"
      ],
      "metadata": {
        "id": "pLTGpquqkg8m"
      },
      "execution_count": null,
      "outputs": []
    },
    {
      "cell_type": "code",
      "source": [
        "input_shape = (BATCH_SIZE, IMAGE_SIZE1, IMAGE_SIZE2, CHANNELS)\n",
        "n_classes = 3\n",
        "model = models.Sequential([\n",
        "    resize_and_rescale,\n",
        "    layers.Conv2D(64, kernel_size = (3,3), activation='relu', input_shape=input_shape,padding='same'),\n",
        "    layers.Conv2D(64, kernel_size = (3,3), activation='relu', input_shape=input_shape,padding='same'),\n",
        "    layers.MaxPooling2D(pool_size=(2, 2),strides=(2,2)),\n",
        "    layers.Conv2D(128, kernel_size = (3,3), activation='relu', input_shape=input_shape,padding='same'),\n",
        "    layers.Conv2D(128, kernel_size = (3,3), activation='relu', input_shape=input_shape,padding='same'),\n",
        "    layers.MaxPooling2D(pool_size=(2, 2),strides=(2,2)),\n",
        "    layers.Conv2D(256, kernel_size = (3,3), activation='relu', input_shape=input_shape,padding='same'),\n",
        "    layers.Conv2D(256, kernel_size = (3,3), activation='relu', input_shape=input_shape,padding='same'),\n",
        "    layers.Conv2D(256, kernel_size = (3,3), activation='relu', input_shape=input_shape,padding='same'),\n",
        "    layers.MaxPooling2D(pool_size=(2, 2),strides=(2,2)),\n",
        "    layers.Conv2D(512, kernel_size = (3,3), activation='relu', input_shape=input_shape,padding='same'),\n",
        "    layers.Conv2D(512, kernel_size = (3,3), activation='relu', input_shape=input_shape,padding='same'),\n",
        "    layers.Conv2D(512, kernel_size = (3,3), activation='relu', input_shape=input_shape,padding='same'),\n",
        "    layers.MaxPooling2D(pool_size=(2, 2),strides=(2,2)),\n",
        "    layers.Conv2D(512, kernel_size = (3,3), activation='relu', input_shape=input_shape,padding='same'),\n",
        "    layers.Conv2D(512, kernel_size = (3,3), activation='relu', input_shape=input_shape,padding='same'),\n",
        "    layers.Conv2D(512, kernel_size = (3,3), activation='relu', input_shape=input_shape,padding='same'),\n",
        "    layers.MaxPooling2D(pool_size=(2, 2),strides=(2,2)),\n",
        "    layers.Flatten(),\n",
        "    layers.Dense(4096, activation='relu'),\n",
        "    layers.Dense(4096, activation='relu'),\n",
        "    layers.Dense(n_classes, activation='softmax'),\n",
        "])\n",
        "\n",
        "model.build(input_shape=input_shape)"
      ],
      "metadata": {
        "id": "P61OqTU9km5p"
      },
      "execution_count": null,
      "outputs": []
    },
    {
      "cell_type": "code",
      "source": [
        "model.summary()"
      ],
      "metadata": {
        "colab": {
          "base_uri": "https://localhost:8080/"
        },
        "id": "VEi32IwTlFRQ",
        "outputId": "9f5a301f-fbf3-4636-a7c6-2a1d53713d1b"
      },
      "execution_count": null,
      "outputs": [
        {
          "output_type": "stream",
          "name": "stdout",
          "text": [
            "Model: \"sequential_1\"\n",
            "_________________________________________________________________\n",
            " Layer (type)                Output Shape              Param #   \n",
            "=================================================================\n",
            " sequential (Sequential)     (32, 113, 150, 3)         0         \n",
            "                                                                 \n",
            " conv2d (Conv2D)             (32, 113, 150, 64)        1792      \n",
            "                                                                 \n",
            " conv2d_1 (Conv2D)           (32, 113, 150, 64)        36928     \n",
            "                                                                 \n",
            " max_pooling2d (MaxPooling2D  (32, 56, 75, 64)         0         \n",
            " )                                                               \n",
            "                                                                 \n",
            " conv2d_2 (Conv2D)           (32, 56, 75, 128)         73856     \n",
            "                                                                 \n",
            " conv2d_3 (Conv2D)           (32, 56, 75, 128)         147584    \n",
            "                                                                 \n",
            " max_pooling2d_1 (MaxPooling  (32, 28, 37, 128)        0         \n",
            " 2D)                                                             \n",
            "                                                                 \n",
            " conv2d_4 (Conv2D)           (32, 28, 37, 256)         295168    \n",
            "                                                                 \n",
            " conv2d_5 (Conv2D)           (32, 28, 37, 256)         590080    \n",
            "                                                                 \n",
            " conv2d_6 (Conv2D)           (32, 28, 37, 256)         590080    \n",
            "                                                                 \n",
            " max_pooling2d_2 (MaxPooling  (32, 14, 18, 256)        0         \n",
            " 2D)                                                             \n",
            "                                                                 \n",
            " conv2d_7 (Conv2D)           (32, 14, 18, 512)         1180160   \n",
            "                                                                 \n",
            " conv2d_8 (Conv2D)           (32, 14, 18, 512)         2359808   \n",
            "                                                                 \n",
            " conv2d_9 (Conv2D)           (32, 14, 18, 512)         2359808   \n",
            "                                                                 \n",
            " max_pooling2d_3 (MaxPooling  (32, 7, 9, 512)          0         \n",
            " 2D)                                                             \n",
            "                                                                 \n",
            " conv2d_10 (Conv2D)          (32, 7, 9, 512)           2359808   \n",
            "                                                                 \n",
            " conv2d_11 (Conv2D)          (32, 7, 9, 512)           2359808   \n",
            "                                                                 \n",
            " conv2d_12 (Conv2D)          (32, 7, 9, 512)           2359808   \n",
            "                                                                 \n",
            " max_pooling2d_4 (MaxPooling  (32, 3, 4, 512)          0         \n",
            " 2D)                                                             \n",
            "                                                                 \n",
            " flatten (Flatten)           (32, 6144)                0         \n",
            "                                                                 \n",
            " dense (Dense)               (32, 4096)                25169920  \n",
            "                                                                 \n",
            " dense_1 (Dense)             (32, 4096)                16781312  \n",
            "                                                                 \n",
            " dense_2 (Dense)             (32, 3)                   12291     \n",
            "                                                                 \n",
            "=================================================================\n",
            "Total params: 56,678,211\n",
            "Trainable params: 56,678,211\n",
            "Non-trainable params: 0\n",
            "_________________________________________________________________\n"
          ]
        }
      ]
    },
    {
      "cell_type": "code",
      "source": [
        "model.compile(\n",
        "    optimizer='adam',\n",
        "    loss=tf.keras.losses.SparseCategoricalCrossentropy(from_logits=False),\n",
        "    metrics=['accuracy']\n",
        ")"
      ],
      "metadata": {
        "id": "KHM8nROwlLiE"
      },
      "execution_count": null,
      "outputs": []
    },
    {
      "cell_type": "code",
      "source": [
        "history = model.fit(\n",
        "    train_ds,\n",
        "    batch_size=BATCH_SIZE,\n",
        "    validation_data=val_ds,\n",
        "    verbose=1,\n",
        "    epochs=15,\n",
        ")"
      ],
      "metadata": {
        "colab": {
          "base_uri": "https://localhost:8080/"
        },
        "id": "2YP8DEg0lOpJ",
        "outputId": "3680f8ed-5ff3-496a-d26a-b81b86a30685"
      },
      "execution_count": null,
      "outputs": [
        {
          "output_type": "stream",
          "name": "stdout",
          "text": [
            "Epoch 1/15\n",
            "76/76 [==============================] - 266s 2s/step - loss: 1.1210 - accuracy: 0.3209 - val_loss: 1.0999 - val_accuracy: 0.2812\n",
            "Epoch 2/15\n",
            "76/76 [==============================] - 249s 2s/step - loss: 1.0981 - accuracy: 0.3549 - val_loss: 1.0977 - val_accuracy: 0.3579\n",
            "Epoch 3/15\n",
            "76/76 [==============================] - 246s 2s/step - loss: 1.0977 - accuracy: 0.3503 - val_loss: 1.0928 - val_accuracy: 0.3889\n",
            "Epoch 4/15\n",
            "76/76 [==============================] - 248s 2s/step - loss: 1.0977 - accuracy: 0.3491 - val_loss: 1.0967 - val_accuracy: 0.3403\n",
            "Epoch 5/15\n",
            "76/76 [==============================] - 248s 2s/step - loss: 1.0980 - accuracy: 0.3499 - val_loss: 1.0966 - val_accuracy: 0.3507\n",
            "Epoch 6/15\n",
            "76/76 [==============================] - 248s 2s/step - loss: 1.0974 - accuracy: 0.3520 - val_loss: 1.0942 - val_accuracy: 0.3819\n",
            "Epoch 7/15\n",
            "76/76 [==============================] - 249s 2s/step - loss: 1.0969 - accuracy: 0.3549 - val_loss: 1.0944 - val_accuracy: 0.3368\n",
            "Epoch 8/15\n",
            "76/76 [==============================] - 249s 2s/step - loss: 1.0988 - accuracy: 0.3325 - val_loss: 1.0934 - val_accuracy: 0.3690\n",
            "Epoch 9/15\n",
            "76/76 [==============================] - 249s 2s/step - loss: 1.0977 - accuracy: 0.3387 - val_loss: 1.1003 - val_accuracy: 0.3063\n",
            "Epoch 10/15\n",
            "76/76 [==============================] - 250s 2s/step - loss: 1.0979 - accuracy: 0.3479 - val_loss: 1.1012 - val_accuracy: 0.3160\n",
            "Epoch 11/15\n",
            "76/76 [==============================] - 250s 2s/step - loss: 1.0975 - accuracy: 0.3524 - val_loss: 1.0991 - val_accuracy: 0.3229\n",
            "Epoch 12/15\n",
            "76/76 [==============================] - 250s 2s/step - loss: 1.0972 - accuracy: 0.3491 - val_loss: 1.1015 - val_accuracy: 0.2986\n",
            "Epoch 13/15\n",
            "76/76 [==============================] - 250s 2s/step - loss: 1.0974 - accuracy: 0.3499 - val_loss: 1.0948 - val_accuracy: 0.3507\n",
            "Epoch 14/15\n",
            "76/76 [==============================] - 248s 2s/step - loss: 1.0978 - accuracy: 0.3466 - val_loss: 1.0994 - val_accuracy: 0.3403\n",
            "Epoch 15/15\n",
            "76/76 [==============================] - 250s 2s/step - loss: 1.0968 - accuracy: 0.3499 - val_loss: 1.0991 - val_accuracy: 0.3403\n"
          ]
        }
      ]
    },
    {
      "cell_type": "code",
      "source": [
        "scores = model.evaluate(test_ds)"
      ],
      "metadata": {
        "colab": {
          "base_uri": "https://localhost:8080/"
        },
        "id": "WuHa7uMn0QmV",
        "outputId": "5ee1b17e-0fd8-4246-a192-f5161ba536d4"
      },
      "execution_count": null,
      "outputs": [
        {
          "output_type": "stream",
          "name": "stdout",
          "text": [
            "10/10 [==============================] - 119s 65ms/step - loss: 1.0923 - accuracy: 0.3469\n"
          ]
        }
      ]
    },
    {
      "cell_type": "code",
      "source": [
        "acc = history.history['accuracy']\n",
        "val_acc = history.history['val_accuracy']\n",
        "\n",
        "loss = history.history['loss']\n",
        "val_loss = history.history['val_loss']"
      ],
      "metadata": {
        "id": "kyORA5TE03s9"
      },
      "execution_count": null,
      "outputs": []
    },
    {
      "cell_type": "code",
      "source": [
        "plt.figure(figsize=(8, 8))\n",
        "plt.subplot(1, 2, 1)\n",
        "plt.plot(range(15), acc, label='Training Accuracy')\n",
        "plt.plot(range(15), val_acc, label='Validation Accuracy')\n",
        "plt.legend(loc='lower right')\n",
        "plt.title('Training and Validation Accuracy')\n",
        "\n",
        "plt.subplot(1, 2, 2)\n",
        "plt.plot(range(EPOCHS), loss, label='Training Loss')\n",
        "plt.plot(range(EPOCHS), val_loss, label='Validation Loss')\n",
        "plt.legend(loc='upper right')\n",
        "plt.title('Training and Validation Loss')\n",
        "plt.show()\n"
      ],
      "metadata": {
        "colab": {
          "base_uri": "https://localhost:8080/",
          "height": 499
        },
        "id": "qrQM92_K0-t2",
        "outputId": "d88ce93c-2f3c-4a4c-ba09-290cfc8bcfb8"
      },
      "execution_count": null,
      "outputs": [
        {
          "output_type": "display_data",
          "data": {
            "text/plain": [
              "<Figure size 576x576 with 2 Axes>"
            ],
            "image/png": "[encoded data removed]"
          },
          "metadata": {
            "needs_background": "light"
          }
        }
      ]
    },
    {
      "cell_type": "code",
      "source": [
        "#from PIL import Image\n",
        "from keras.preprocessing.image import img_to_array\n",
        "import tensorflow as tf\n",
        "from keras.preprocessing.image import load_img\n",
        "import numpy as np\n",
        "import os\n",
        "#/content/drive/MyDrive/UNTRAINED DATA/UNTRAINED_SIGATOKA.jpg\n",
        "for image in os.listdir(\"/content/drive/MyDrive/UNTRAINED_DATA\"):\n",
        "  #img = load_img(image)\n",
        "  # print(\"/content/drive/MyDrive/UNTRAINED_DATA\"+image)\n",
        "   #img=img.resize((113,150))\n",
        "   print(image)\n",
        "   img = load_img(\"/content/drive/MyDrive/UNTRAINED_DATA/\"+image)\n",
        "   img=img.resize((150,113))\n",
        "   img_array = tf.keras.preprocessing.image.img_to_array(img)\n",
        "   img_array = tf.expand_dims(img_array, 0)\n",
        "   print(np.argmax(model.predict(img_array)))"
      ],
      "metadata": {
        "colab": {
          "base_uri": "https://localhost:8080/"
        },
        "id": "LDADJD2C1FXd",
        "outputId": "f3dcca75-bb18-459e-9223-33c691ef345e"
      },
      "execution_count": null,
      "outputs": [
        {
          "output_type": "stream",
          "name": "stdout",
          "text": [
            "UNTRAINED_CMV.jpeg\n",
            "0\n",
            "UNTRAINED_SIGATOKA.jpg\n",
            "0\n",
            "UNTRAINED_SIGATOKA_1.jpg\n",
            "0\n",
            "sigatoka_images.jpg\n",
            "0\n",
            "yellow-sigatoka-banana-1563270070.jpg\n",
            "0\n",
            "yellow-sigatoka-banana-1563270133.jpg\n",
            "0\n",
            "yellow-sigatoka-banana-1563270070 (1).jpg\n",
            "0\n",
            "healthy (1).jpg\n",
            "0\n",
            "healthy.jpg\n",
            "0\n",
            "unknown.jpg\n",
            "0\n",
            "cmv_6.jpeg\n",
            "0\n",
            "cmv_5.jpeg\n",
            "0\n",
            "cmv_4.jpeg\n",
            "0\n",
            "cmv_3.jpeg\n",
            "0\n",
            "cmv_2.jpeg\n",
            "0\n",
            "cmv_1.jpeg\n",
            "0\n"
          ]
        }
      ]
    }
  ]
}